{
 "cells": [
  {
   "cell_type": "markdown",
   "id": "25d7736c-ba17-4aff-b6bb-66eba20fbf4e",
   "metadata": {
    "id": "25d7736c-ba17-4aff-b6bb-66eba20fbf4e"
   },
   "source": [
    "# Lab | Data Structuring and Combining Data"
   ]
  },
  {
   "cell_type": "markdown",
   "id": "a2cdfc70-44c8-478c-81e7-2bc43fdf4986",
   "metadata": {
    "id": "a2cdfc70-44c8-478c-81e7-2bc43fdf4986"
   },
   "source": [
    "## Challenge 1: Combining & Cleaning Data\n",
    "\n",
    "In this challenge, we will be working with the customer data from an insurance company, as we did in the two previous labs. The data can be found here:\n",
    "- https://raw.githubusercontent.com/data-bootcamp-v4/data/main/file1.csv\n",
    "\n",
    "But this time, we got new data, which can be found in the following 2 CSV files located at the links below.\n",
    "\n",
    "- https://raw.githubusercontent.com/data-bootcamp-v4/data/main/file2.csv\n",
    "- https://raw.githubusercontent.com/data-bootcamp-v4/data/main/file3.csv\n",
    "\n",
    "Note that you'll need to clean and format the new data.\n",
    "\n",
    "Observation:\n",
    "- One option is to first combine the three datasets and then apply the cleaning function to the new combined dataset\n",
    "- Another option would be to read the clean file you saved in the previous lab, and just clean the two new files and concatenate the three clean datasets"
   ]
  },
  {
   "cell_type": "code",
   "execution_count": 3,
   "id": "492d06e3-92c7-4105-ac72-536db98d3244",
   "metadata": {
    "id": "492d06e3-92c7-4105-ac72-536db98d3244"
   },
   "outputs": [],
   "source": [
    "# Importing pandas an numpy libraries\n",
    "import pandas as pd\n",
    "import numpy as np\n",
    "\n",
    "# Setting variables to each file route\n",
    "url1 = 'https://raw.githubusercontent.com/data-bootcamp-v4/data/main/file1.csv'\n",
    "url2 = 'https://raw.githubusercontent.com/data-bootcamp-v4/data/main/file2.csv'\n",
    "url3 = 'https://raw.githubusercontent.com/data-bootcamp-v4/data/main/file3.csv'\n",
    "\n",
    "# Importing three files into the notebook\n",
    "df_file1 = pd.read_csv(url1)\n",
    "df_file2 = pd.read_csv(url2)\n",
    "df_file3 = pd.read_csv(url3)"
   ]
  },
  {
   "cell_type": "code",
   "execution_count": 4,
   "id": "49be6d31",
   "metadata": {},
   "outputs": [
    {
     "data": {
      "text/plain": [
       "Index(['Customer', 'ST', 'GENDER', 'Education', 'Customer Lifetime Value',\n",
       "       'Income', 'Monthly Premium Auto', 'Number of Open Complaints',\n",
       "       'Policy Type', 'Vehicle Class', 'Total Claim Amount'],\n",
       "      dtype='object')"
      ]
     },
     "execution_count": 4,
     "metadata": {},
     "output_type": "execute_result"
    }
   ],
   "source": [
    "# Checking columns names in file1 to concat files properly\n",
    "df_file1.columns"
   ]
  },
  {
   "cell_type": "code",
   "execution_count": 5,
   "id": "217c4e0e",
   "metadata": {},
   "outputs": [
    {
     "data": {
      "text/plain": [
       "Index(['Customer', 'ST', 'GENDER', 'Education', 'Customer Lifetime Value',\n",
       "       'Income', 'Monthly Premium Auto', 'Number of Open Complaints',\n",
       "       'Total Claim Amount', 'Policy Type', 'Vehicle Class'],\n",
       "      dtype='object')"
      ]
     },
     "execution_count": 5,
     "metadata": {},
     "output_type": "execute_result"
    }
   ],
   "source": [
    "# Checking columns names in file2 to concat files properly\n",
    "df_file2.columns"
   ]
  },
  {
   "cell_type": "code",
   "execution_count": 6,
   "id": "9192a8b9",
   "metadata": {},
   "outputs": [],
   "source": [
    "# Checking columns names in file1 to concat files properly\n",
    "df_file3.columns\n",
    "\n",
    "# Modifying Gender and State column names to coincide with two previous file names\n",
    "df_file3 = df_file3.rename(columns={'Gender': 'GENDER', 'State': 'ST'})"
   ]
  },
  {
   "cell_type": "code",
   "execution_count": 7,
   "id": "a83e6edf",
   "metadata": {},
   "outputs": [],
   "source": [
    "# Concatenate the three files in a single dataframe\n",
    "df = pd.concat([df_file1, df_file2, df_file3], axis=0)"
   ]
  },
  {
   "cell_type": "code",
   "execution_count": 8,
   "id": "7d0f5eb0",
   "metadata": {},
   "outputs": [],
   "source": [
    "# Parameters to autoreload edited modules\n",
    "%load_ext autoreload\n",
    "%autoreload 2\n",
    "%reload_ext autoreload\n",
    "\n",
    "# Importing data_cleaning module to clean the dataframe\n",
    "import data_cleaning as dc\n",
    "\n",
    "# Applying main_cleaning function from data_cleaning module to the dataframe\n",
    "df = dc.main_cleaning(df)"
   ]
  },
  {
   "cell_type": "markdown",
   "id": "31b8a9e7-7db9-4604-991b-ef6771603e57",
   "metadata": {
    "id": "31b8a9e7-7db9-4604-991b-ef6771603e57"
   },
   "source": [
    "# Challenge 2: Structuring Data"
   ]
  },
  {
   "cell_type": "markdown",
   "id": "a877fd6d-7a0c-46d2-9657-f25036e4ca4b",
   "metadata": {
    "id": "a877fd6d-7a0c-46d2-9657-f25036e4ca4b"
   },
   "source": [
    "In this challenge, we will continue to work with customer data from an insurance company, but we will use a dataset with more columns, called marketing_customer_analysis.csv, which can be found at the following link:\n",
    "\n",
    "https://raw.githubusercontent.com/data-bootcamp-v4/data/main/marketing_customer_analysis_clean.csv\n",
    "\n",
    "This dataset contains information such as customer demographics, policy details, vehicle information, and the customer's response to the last marketing campaign. Our goal is to explore and analyze this data by performing data cleaning, formatting, and structuring."
   ]
  },
  {
   "cell_type": "code",
   "execution_count": 9,
   "id": "aa10d9b0-1c27-4d3f-a8e4-db6ab73bfd26",
   "metadata": {
    "id": "aa10d9b0-1c27-4d3f-a8e4-db6ab73bfd26"
   },
   "outputs": [],
   "source": [
    "# Setting variables to each file route\n",
    "url4 = 'https://raw.githubusercontent.com/data-bootcamp-v4/data/main/marketing_customer_analysis_clean.csv'\n",
    "\n",
    "# Importing file into the notebook\n",
    "customer_analysis = pd.read_csv(url4)\n",
    "\n",
    "# Standarizing column names\n",
    "customer_analysis = dc.rename_columns(customer_analysis)\n",
    "\n",
    "# Removing duplicated customers\n",
    "customer_analysis = dc.remove_duplicates(customer_analysis)"
   ]
  },
  {
   "cell_type": "code",
   "execution_count": 10,
   "id": "60790629",
   "metadata": {},
   "outputs": [
    {
     "data": {
      "text/plain": [
       "Index(['unnamed:_0', 'customer', 'state', 'customer_lifetime_value',\n",
       "       'response', 'coverage', 'education', 'effective_to_date',\n",
       "       'employmentstatus', 'gender', 'income', 'location_code',\n",
       "       'marital_status', 'monthly_premium_auto', 'months_since_last_claim',\n",
       "       'months_since_policy_inception', 'number_of_open_complaints',\n",
       "       'number_of_policies', 'policy_type', 'policy', 'renew_offer_type',\n",
       "       'sales_channel', 'total_claim_amount', 'vehicle_class', 'vehicle_size',\n",
       "       'vehicle_type', 'month'],\n",
       "      dtype='object')"
      ]
     },
     "execution_count": 10,
     "metadata": {},
     "output_type": "execute_result"
    }
   ],
   "source": [
    "# Checking column names to gain understanding of what is inside the dataframe\n",
    "customer_analysis.columns"
   ]
  },
  {
   "cell_type": "code",
   "execution_count": 11,
   "id": "f65f24ca",
   "metadata": {},
   "outputs": [
    {
     "data": {
      "application/vnd.microsoft.datawrangler.viewer.v0+json": {
       "columns": [
        {
         "name": "index",
         "rawType": "object",
         "type": "string"
        },
        {
         "name": "0",
         "rawType": "int64",
         "type": "integer"
        }
       ],
       "ref": "fd20efa4-638b-4a8c-919f-f1248403473a",
       "rows": [
        [
         "unnamed:_0",
         "0"
        ],
        [
         "customer",
         "0"
        ],
        [
         "state",
         "0"
        ],
        [
         "customer_lifetime_value",
         "0"
        ],
        [
         "response",
         "0"
        ],
        [
         "coverage",
         "0"
        ],
        [
         "education",
         "0"
        ],
        [
         "effective_to_date",
         "0"
        ],
        [
         "employmentstatus",
         "0"
        ],
        [
         "gender",
         "0"
        ],
        [
         "income",
         "0"
        ],
        [
         "location_code",
         "0"
        ],
        [
         "marital_status",
         "0"
        ],
        [
         "monthly_premium_auto",
         "0"
        ],
        [
         "months_since_last_claim",
         "0"
        ],
        [
         "months_since_policy_inception",
         "0"
        ],
        [
         "number_of_open_complaints",
         "0"
        ],
        [
         "number_of_policies",
         "0"
        ],
        [
         "policy_type",
         "0"
        ],
        [
         "policy",
         "0"
        ],
        [
         "renew_offer_type",
         "0"
        ],
        [
         "sales_channel",
         "0"
        ],
        [
         "total_claim_amount",
         "0"
        ],
        [
         "vehicle_class",
         "0"
        ],
        [
         "vehicle_size",
         "0"
        ],
        [
         "vehicle_type",
         "0"
        ],
        [
         "month",
         "0"
        ]
       ],
       "shape": {
        "columns": 1,
        "rows": 27
       }
      },
      "text/plain": [
       "unnamed:_0                       0\n",
       "customer                         0\n",
       "state                            0\n",
       "customer_lifetime_value          0\n",
       "response                         0\n",
       "coverage                         0\n",
       "education                        0\n",
       "effective_to_date                0\n",
       "employmentstatus                 0\n",
       "gender                           0\n",
       "income                           0\n",
       "location_code                    0\n",
       "marital_status                   0\n",
       "monthly_premium_auto             0\n",
       "months_since_last_claim          0\n",
       "months_since_policy_inception    0\n",
       "number_of_open_complaints        0\n",
       "number_of_policies               0\n",
       "policy_type                      0\n",
       "policy                           0\n",
       "renew_offer_type                 0\n",
       "sales_channel                    0\n",
       "total_claim_amount               0\n",
       "vehicle_class                    0\n",
       "vehicle_size                     0\n",
       "vehicle_type                     0\n",
       "month                            0\n",
       "dtype: int64"
      ]
     },
     "execution_count": 11,
     "metadata": {},
     "output_type": "execute_result"
    }
   ],
   "source": [
    "# Checking null values in each column\n",
    "customer_analysis.isna().sum()"
   ]
  },
  {
   "cell_type": "markdown",
   "id": "df35fd0d-513e-4e77-867e-429da10a9cc7",
   "metadata": {
    "id": "df35fd0d-513e-4e77-867e-429da10a9cc7"
   },
   "source": [
    "1. You work at the marketing department and you want to know which sales channel brought the most sales in terms of total revenue. Using pivot, create a summary table showing the total revenue for each sales channel (branch, call center, web, and mail).\n",
    "Round the total revenue to 2 decimal points.  Analyze the resulting table to draw insights."
   ]
  },
  {
   "cell_type": "code",
   "execution_count": 13,
   "id": "1aef7575",
   "metadata": {},
   "outputs": [
    {
     "data": {
      "application/vnd.microsoft.datawrangler.viewer.v0+json": {
       "columns": [
        {
         "name": "sales_channel",
         "rawType": "object",
         "type": "string"
        },
        {
         "name": "count",
         "rawType": "int64",
         "type": "integer"
        }
       ],
       "ref": "07e188ce-e64c-46bd-8cf2-46ac624332df",
       "rows": [
        [
         "Agent",
         "3477"
        ],
        [
         "Branch",
         "2567"
        ],
        [
         "Call Center",
         "1765"
        ],
        [
         "Web",
         "1325"
        ]
       ],
       "shape": {
        "columns": 1,
        "rows": 4
       }
      },
      "text/plain": [
       "sales_channel\n",
       "Agent          3477\n",
       "Branch         2567\n",
       "Call Center    1765\n",
       "Web            1325\n",
       "Name: count, dtype: int64"
      ]
     },
     "execution_count": 13,
     "metadata": {},
     "output_type": "execute_result"
    }
   ],
   "source": [
    "# Checking values inside sales_channel are well defined\n",
    "customer_analysis['sales_channel'].value_counts()"
   ]
  },
  {
   "cell_type": "code",
   "execution_count": null,
   "id": "5f2f2215",
   "metadata": {},
   "outputs": [],
   "source": [
    "# Modifying income column to float type\n",
    "customer_analysis['income'] = customer_analysis['income'].astype('float64')"
   ]
  },
  {
   "cell_type": "code",
   "execution_count": 39,
   "id": "f59f66ad",
   "metadata": {},
   "outputs": [
    {
     "data": {
      "application/vnd.microsoft.datawrangler.viewer.v0+json": {
       "columns": [
        {
         "name": "sales_channel",
         "rawType": "object",
         "type": "string"
        },
        {
         "name": "income",
         "rawType": "float64",
         "type": "float"
        }
       ],
       "ref": "253b0f9e-3406-4918-bc7f-fd23393299f7",
       "rows": [
        [
         "Agent",
         "129274684.0"
        ],
        [
         "Branch",
         "96477104.0"
        ],
        [
         "Call Center",
         "67820007.0"
        ],
        [
         "Web",
         "50390714.0"
        ]
       ],
       "shape": {
        "columns": 1,
        "rows": 4
       }
      },
      "text/html": [
       "<div>\n",
       "<style scoped>\n",
       "    .dataframe tbody tr th:only-of-type {\n",
       "        vertical-align: middle;\n",
       "    }\n",
       "\n",
       "    .dataframe tbody tr th {\n",
       "        vertical-align: top;\n",
       "    }\n",
       "\n",
       "    .dataframe thead th {\n",
       "        text-align: right;\n",
       "    }\n",
       "</style>\n",
       "<table border=\"1\" class=\"dataframe\">\n",
       "  <thead>\n",
       "    <tr style=\"text-align: right;\">\n",
       "      <th></th>\n",
       "      <th>income</th>\n",
       "    </tr>\n",
       "    <tr>\n",
       "      <th>sales_channel</th>\n",
       "      <th></th>\n",
       "    </tr>\n",
       "  </thead>\n",
       "  <tbody>\n",
       "    <tr>\n",
       "      <th>Agent</th>\n",
       "      <td>129274684.0</td>\n",
       "    </tr>\n",
       "    <tr>\n",
       "      <th>Branch</th>\n",
       "      <td>96477104.0</td>\n",
       "    </tr>\n",
       "    <tr>\n",
       "      <th>Call Center</th>\n",
       "      <td>67820007.0</td>\n",
       "    </tr>\n",
       "    <tr>\n",
       "      <th>Web</th>\n",
       "      <td>50390714.0</td>\n",
       "    </tr>\n",
       "  </tbody>\n",
       "</table>\n",
       "</div>"
      ],
      "text/plain": [
       "                    income\n",
       "sales_channel             \n",
       "Agent          129274684.0\n",
       "Branch          96477104.0\n",
       "Call Center     67820007.0\n",
       "Web             50390714.0"
      ]
     },
     "execution_count": 39,
     "metadata": {},
     "output_type": "execute_result"
    }
   ],
   "source": [
    "# Defining and printing pivot comparing sales_channel with sum of income\n",
    "pivot_df = customer_analysis.pivot_table(index='sales_channel', values=['income'], aggfunc='sum')\n",
    "pivot_df = pivot_df.round(2)\n",
    "pivot_df"
   ]
  },
  {
   "cell_type": "markdown",
   "id": "4a8cf9b4",
   "metadata": {},
   "source": [
    "Agents are the channel who create a higher revenue above the rest of the channels. Sells managed through the webpage generate the lowest income."
   ]
  },
  {
   "cell_type": "markdown",
   "id": "640993b2-a291-436c-a34d-a551144f8196",
   "metadata": {
    "id": "640993b2-a291-436c-a34d-a551144f8196"
   },
   "source": [
    "2. Create a pivot table that shows the average customer lifetime value per gender and education level. Analyze the resulting table to draw insights."
   ]
  },
  {
   "cell_type": "code",
   "execution_count": null,
   "id": "7f67fd84",
   "metadata": {},
   "outputs": [
    {
     "data": {
      "text/plain": [
       "dtype('float64')"
      ]
     },
     "execution_count": 40,
     "metadata": {},
     "output_type": "execute_result"
    }
   ],
   "source": [
    "# Checking customer_lifetime_value is a numerical value\n",
    "customer_analysis['customer_lifetime_value'].dtype"
   ]
  },
  {
   "cell_type": "code",
   "execution_count": null,
   "id": "b8fcb015",
   "metadata": {},
   "outputs": [
    {
     "data": {
      "application/vnd.microsoft.datawrangler.viewer.v0+json": {
       "columns": [
        {
         "name": "gender",
         "rawType": "object",
         "type": "string"
        },
        {
         "name": "count",
         "rawType": "int64",
         "type": "integer"
        }
       ],
       "ref": "92b788ce-2a18-4972-ae4a-93a9716dcd78",
       "rows": [
        [
         "F",
         "4658"
        ],
        [
         "M",
         "4476"
        ]
       ],
       "shape": {
        "columns": 1,
        "rows": 2
       }
      },
      "text/plain": [
       "gender\n",
       "F    4658\n",
       "M    4476\n",
       "Name: count, dtype: int64"
      ]
     },
     "execution_count": 41,
     "metadata": {},
     "output_type": "execute_result"
    }
   ],
   "source": [
    "# Checking values inside gender variable make sense\n",
    "customer_analysis['gender'].value_counts()"
   ]
  },
  {
   "cell_type": "code",
   "execution_count": null,
   "id": "32bc1970",
   "metadata": {},
   "outputs": [
    {
     "data": {
      "application/vnd.microsoft.datawrangler.viewer.v0+json": {
       "columns": [
        {
         "name": "education",
         "rawType": "object",
         "type": "string"
        },
        {
         "name": "count",
         "rawType": "int64",
         "type": "integer"
        }
       ],
       "ref": "46a498b4-0491-47c0-93a3-da6e9128a407",
       "rows": [
        [
         "Bachelor",
         "2748"
        ],
        [
         "College",
         "2681"
        ],
        [
         "High School or Below",
         "2622"
        ],
        [
         "Master",
         "741"
        ],
        [
         "Doctor",
         "342"
        ]
       ],
       "shape": {
        "columns": 1,
        "rows": 5
       }
      },
      "text/plain": [
       "education\n",
       "Bachelor                2748\n",
       "College                 2681\n",
       "High School or Below    2622\n",
       "Master                   741\n",
       "Doctor                   342\n",
       "Name: count, dtype: int64"
      ]
     },
     "execution_count": 42,
     "metadata": {},
     "output_type": "execute_result"
    }
   ],
   "source": [
    "# Checking values inside customer_lifetime_value variable make sense\n",
    "customer_analysis['education'].value_counts()"
   ]
  },
  {
   "cell_type": "code",
   "execution_count": 45,
   "id": "ababcc71",
   "metadata": {},
   "outputs": [
    {
     "data": {
      "application/vnd.microsoft.datawrangler.viewer.v0+json": {
       "columns": [
        {
         "name": "education",
         "rawType": "object",
         "type": "string"
        },
        {
         "name": "('customer_lifetime_value', 'F')",
         "rawType": "float64",
         "type": "float"
        },
        {
         "name": "('customer_lifetime_value', 'M')",
         "rawType": "float64",
         "type": "float"
        }
       ],
       "ref": "6dcc0dc0-91b7-41e6-8f30-9b533272a7bb",
       "rows": [
        [
         "Bachelor",
         "8012.88",
         "7722.07"
        ],
        [
         "College",
         "7732.83",
         "7971.34"
        ],
        [
         "Doctor",
         "7423.63",
         "7614.82"
        ],
        [
         "High School or Below",
         "8579.0",
         "8010.08"
        ],
        [
         "Master",
         "8319.11",
         "8158.08"
        ]
       ],
       "shape": {
        "columns": 2,
        "rows": 5
       }
      },
      "text/html": [
       "<div>\n",
       "<style scoped>\n",
       "    .dataframe tbody tr th:only-of-type {\n",
       "        vertical-align: middle;\n",
       "    }\n",
       "\n",
       "    .dataframe tbody tr th {\n",
       "        vertical-align: top;\n",
       "    }\n",
       "\n",
       "    .dataframe thead tr th {\n",
       "        text-align: left;\n",
       "    }\n",
       "\n",
       "    .dataframe thead tr:last-of-type th {\n",
       "        text-align: right;\n",
       "    }\n",
       "</style>\n",
       "<table border=\"1\" class=\"dataframe\">\n",
       "  <thead>\n",
       "    <tr>\n",
       "      <th></th>\n",
       "      <th colspan=\"2\" halign=\"left\">customer_lifetime_value</th>\n",
       "    </tr>\n",
       "    <tr>\n",
       "      <th>gender</th>\n",
       "      <th>F</th>\n",
       "      <th>M</th>\n",
       "    </tr>\n",
       "    <tr>\n",
       "      <th>education</th>\n",
       "      <th></th>\n",
       "      <th></th>\n",
       "    </tr>\n",
       "  </thead>\n",
       "  <tbody>\n",
       "    <tr>\n",
       "      <th>Bachelor</th>\n",
       "      <td>8012.88</td>\n",
       "      <td>7722.07</td>\n",
       "    </tr>\n",
       "    <tr>\n",
       "      <th>College</th>\n",
       "      <td>7732.83</td>\n",
       "      <td>7971.34</td>\n",
       "    </tr>\n",
       "    <tr>\n",
       "      <th>Doctor</th>\n",
       "      <td>7423.63</td>\n",
       "      <td>7614.82</td>\n",
       "    </tr>\n",
       "    <tr>\n",
       "      <th>High School or Below</th>\n",
       "      <td>8579.00</td>\n",
       "      <td>8010.08</td>\n",
       "    </tr>\n",
       "    <tr>\n",
       "      <th>Master</th>\n",
       "      <td>8319.11</td>\n",
       "      <td>8158.08</td>\n",
       "    </tr>\n",
       "  </tbody>\n",
       "</table>\n",
       "</div>"
      ],
      "text/plain": [
       "                     customer_lifetime_value         \n",
       "gender                                     F        M\n",
       "education                                            \n",
       "Bachelor                             8012.88  7722.07\n",
       "College                              7732.83  7971.34\n",
       "Doctor                               7423.63  7614.82\n",
       "High School or Below                 8579.00  8010.08\n",
       "Master                               8319.11  8158.08"
      ]
     },
     "execution_count": 45,
     "metadata": {},
     "output_type": "execute_result"
    }
   ],
   "source": [
    "clv_gender_education = customer_analysis.pivot_table(index='education', columns='gender', values=['customer_lifetime_value'], aggfunc='mean')\n",
    "clv_gender_education = clv_gender_education.round(2)\n",
    "clv_gender_education"
   ]
  },
  {
   "cell_type": "markdown",
   "id": "48168df5",
   "metadata": {},
   "source": [
    "People with College and Doctor education have the lowest CLV independently of their gender.\n",
    "People with High School or Bellow and Master education have the highest CLV independently of their gender.\n",
    "CLV is slightly higher in general for females than males.\n"
   ]
  },
  {
   "cell_type": "markdown",
   "id": "32c7f2e5-3d90-43e5-be33-9781b6069198",
   "metadata": {
    "id": "32c7f2e5-3d90-43e5-be33-9781b6069198"
   },
   "source": [
    "## Bonus\n",
    "\n",
    "You work at the customer service department and you want to know which months had the highest number of complaints by policy type category. Create a summary table showing the number of complaints by policy type and month.\n",
    "Show it in a long format table."
   ]
  },
  {
   "cell_type": "markdown",
   "id": "e3d09a8f-953c-448a-a5f8-2e5a8cca7291",
   "metadata": {
    "id": "e3d09a8f-953c-448a-a5f8-2e5a8cca7291"
   },
   "source": [
    "*In data analysis, a long format table is a way of structuring data in which each observation or measurement is stored in a separate row of the table. The key characteristic of a long format table is that each column represents a single variable, and each row represents a single observation of that variable.*\n",
    "\n",
    "*More information about long and wide format tables here: https://www.statology.org/long-vs-wide-data/*"
   ]
  },
  {
   "cell_type": "code",
   "execution_count": 55,
   "id": "f4831699",
   "metadata": {},
   "outputs": [
    {
     "data": {
      "application/vnd.microsoft.datawrangler.viewer.v0+json": {
       "columns": [
        {
         "name": "policy_type",
         "rawType": "object",
         "type": "string"
        },
        {
         "name": "('number_of_open_complaints', 1)",
         "rawType": "float64",
         "type": "float"
        },
        {
         "name": "('number_of_open_complaints', 2)",
         "rawType": "float64",
         "type": "float"
        }
       ],
       "ref": "7e857802-8a7c-4eaf-9f67-f12b6fedcf1a",
       "rows": [
        [
         "Corporate Auto",
         "372.3",
         "340.53"
        ],
        [
         "Personal Auto",
         "1464.34",
         "1186.19"
        ],
        [
         "Special Auto",
         "76.77",
         "71.15"
        ]
       ],
       "shape": {
        "columns": 2,
        "rows": 3
       }
      },
      "text/html": [
       "<div>\n",
       "<style scoped>\n",
       "    .dataframe tbody tr th:only-of-type {\n",
       "        vertical-align: middle;\n",
       "    }\n",
       "\n",
       "    .dataframe tbody tr th {\n",
       "        vertical-align: top;\n",
       "    }\n",
       "\n",
       "    .dataframe thead tr th {\n",
       "        text-align: left;\n",
       "    }\n",
       "\n",
       "    .dataframe thead tr:last-of-type th {\n",
       "        text-align: right;\n",
       "    }\n",
       "</style>\n",
       "<table border=\"1\" class=\"dataframe\">\n",
       "  <thead>\n",
       "    <tr>\n",
       "      <th></th>\n",
       "      <th colspan=\"2\" halign=\"left\">number_of_open_complaints</th>\n",
       "    </tr>\n",
       "    <tr>\n",
       "      <th>month</th>\n",
       "      <th>1</th>\n",
       "      <th>2</th>\n",
       "    </tr>\n",
       "    <tr>\n",
       "      <th>policy_type</th>\n",
       "      <th></th>\n",
       "      <th></th>\n",
       "    </tr>\n",
       "  </thead>\n",
       "  <tbody>\n",
       "    <tr>\n",
       "      <th>Corporate Auto</th>\n",
       "      <td>372.30</td>\n",
       "      <td>340.53</td>\n",
       "    </tr>\n",
       "    <tr>\n",
       "      <th>Personal Auto</th>\n",
       "      <td>1464.34</td>\n",
       "      <td>1186.19</td>\n",
       "    </tr>\n",
       "    <tr>\n",
       "      <th>Special Auto</th>\n",
       "      <td>76.77</td>\n",
       "      <td>71.15</td>\n",
       "    </tr>\n",
       "  </tbody>\n",
       "</table>\n",
       "</div>"
      ],
      "text/plain": [
       "               number_of_open_complaints         \n",
       "month                                  1        2\n",
       "policy_type                                      \n",
       "Corporate Auto                    372.30   340.53\n",
       "Personal Auto                    1464.34  1186.19\n",
       "Special Auto                       76.77    71.15"
      ]
     },
     "execution_count": 55,
     "metadata": {},
     "output_type": "execute_result"
    }
   ],
   "source": [
    "complaints_month_policy_type = customer_analysis.pivot_table(index='policy_type', columns='month', values=['number_of_open_complaints'], aggfunc='sum')\n",
    "complaints_month_policy_type = complaints_month_policy_type.round(2)\n",
    "complaints_month_policy_type"
   ]
  }
 ],
 "metadata": {
  "colab": {
   "provenance": []
  },
  "kernelspec": {
   "display_name": "Python 3",
   "language": "python",
   "name": "python3"
  },
  "language_info": {
   "codemirror_mode": {
    "name": "ipython",
    "version": 3
   },
   "file_extension": ".py",
   "mimetype": "text/x-python",
   "name": "python",
   "nbconvert_exporter": "python",
   "pygments_lexer": "ipython3",
   "version": "3.12.9"
  }
 },
 "nbformat": 4,
 "nbformat_minor": 5
}
